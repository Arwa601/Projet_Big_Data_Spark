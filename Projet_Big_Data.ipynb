{
  "nbformat": 4,
  "nbformat_minor": 0,
  "metadata": {
    "colab": {
      "provenance": [],
      "include_colab_link": true
    },
    "kernelspec": {
      "name": "python3",
      "display_name": "Python 3"
    },
    "language_info": {
      "name": "python"
    }
  },
  "cells": [
    {
      "cell_type": "markdown",
      "metadata": {
        "id": "view-in-github",
        "colab_type": "text"
      },
      "source": [
        "<a href=\"https://colab.research.google.com/github/Arwa601/Projet_Big_Data_Spark/blob/main/Projet_Big_Data.ipynb\" target=\"_parent\"><img src=\"https://colab.research.google.com/assets/colab-badge.svg\" alt=\"Open In Colab\"/></a>"
      ]
    },
    {
      "cell_type": "code",
      "execution_count": null,
      "metadata": {
        "colab": {
          "base_uri": "https://localhost:8080/"
        },
        "id": "UHhuObfL5c18",
        "outputId": "d6c19c07-c37e-4823-b768-adb9f960b931"
      },
      "outputs": [
        {
          "output_type": "stream",
          "name": "stdout",
          "text": [
            "Requirement already satisfied: pyspark in /usr/local/lib/python3.10/dist-packages (3.5.3)\n",
            "Requirement already satisfied: py4j==0.10.9.7 in /usr/local/lib/python3.10/dist-packages (from pyspark) (0.10.9.7)\n"
          ]
        }
      ],
      "source": [
        "pip install pyspark\n"
      ]
    },
    {
      "cell_type": "code",
      "source": [
        "# Importer les bibliothèques nécessaires\n",
        "from pyspark.sql import SparkSession\n",
        "from pyspark.sql.functions import col\n",
        "from pyspark.ml.feature import StringIndexer, VectorAssembler\n",
        "from pyspark.ml.classification import DecisionTreeClassifier\n",
        "from pyspark.ml.evaluation import MulticlassClassificationEvaluator"
      ],
      "metadata": {
        "id": "nsE3XGLP5g4p"
      },
      "execution_count": null,
      "outputs": []
    },
    {
      "cell_type": "code",
      "source": [
        "# Étape 1 : Créer une SparkSession\n",
        "\n",
        "\n",
        "# Check if a Spark session already exists and stop it\n",
        "if 'spark' in globals() and spark is not None:\n",
        "    spark.stop()\n",
        "    print(\"Existing Spark session stopped.\")\n",
        "\n",
        "# Create a new Spark session\n",
        "spark = SparkSession.builder \\\n",
        "    .appName(\"Movie Metadata Classification\") \\\n",
        "    .getOrCreate()\n",
        "print(\"New Spark session created.\")"
      ],
      "metadata": {
        "id": "qt0qQkrk5wD2",
        "outputId": "eda06d91-26a7-44a7-db1f-297dab090c00",
        "colab": {
          "base_uri": "https://localhost:8080/"
        }
      },
      "execution_count": null,
      "outputs": [
        {
          "output_type": "stream",
          "name": "stdout",
          "text": [
            "New Spark session created.\n"
          ]
        }
      ]
    },
    {
      "cell_type": "markdown",
      "source": [
        "Charger le jeu de données"
      ],
      "metadata": {
        "id": "2cDtn2hWy4kX"
      }
    },
    {
      "cell_type": "code",
      "source": [
        "# Étape 2 : Charger le jeu de données\n",
        "\n",
        "file_path = \"movies_metadata.csv\"\n",
        "df = spark.read.csv(file_path, header=True, inferSchema=True)"
      ],
      "metadata": {
        "id": "tlRNQjyt5yUQ"
      },
      "execution_count": null,
      "outputs": []
    },
    {
      "cell_type": "code",
      "source": [
        "# Étape 3 : Explorer les données\n",
        "df.show(5)  # Afficher les 5 premières lignes\n",
        "df.printSchema()  # Afficher le schéma des données"
      ],
      "metadata": {
        "colab": {
          "base_uri": "https://localhost:8080/"
        },
        "id": "ZwTytR887ZH3",
        "outputId": "c33ed2d2-c291-400c-9448-94f5230c5061"
      },
      "execution_count": null,
      "outputs": [
        {
          "output_type": "stream",
          "name": "stdout",
          "text": [
            "+-----+---------------------+--------+--------------------+--------------------+-----+---------+-----------------+--------------------+--------------------+----------+--------------------+--------------------+--------------------+--------------------+--------------------+--------------------+--------------------+--------+--------------------+--------------------+--------+--------------------+-----------------+\n",
            "|adult|belongs_to_collection|  budget|              genres|            homepage|   id|  imdb_id|original_language|      original_title|            overview|popularity|         poster_path|production_companies|production_countries|        release_date|             revenue|             runtime|    spoken_languages|  status|             tagline|               title|   video|        vote_average|       vote_count|\n",
            "+-----+---------------------+--------+--------------------+--------------------+-----+---------+-----------------+--------------------+--------------------+----------+--------------------+--------------------+--------------------+--------------------+--------------------+--------------------+--------------------+--------+--------------------+--------------------+--------+--------------------+-----------------+\n",
            "|False| {'id': 10194, 'na...|30000000|[{'id': 16, 'name...|http://toystory.d...|  862|tt0114709|               en|           Toy Story|Led by Woody, And...| 21.946943|/rhIRbceoE9lR4veE...|[{'name': 'Pixar ...|[{'iso_3166_1': '...|          1995-10-30|           373554033|                81.0|[{'iso_639_1': 'e...|Released|                NULL|           Toy Story|   False|                 7.7|             5415|\n",
            "|False|                 NULL|65000000|[{'id': 12, 'name...|                NULL| 8844|tt0113497|               en|             Jumanji|When siblings Jud...| 17.015539|/vzmL6fP7aPKNKPRT...|[{'name': 'TriSta...|[{'iso_3166_1': '...|          1995-12-15|           262797249|               104.0|[{'iso_639_1': 'e...|Released|Roll the dice and...|             Jumanji|   False|                 6.9|             2413|\n",
            "|False| {'id': 119050, 'n...|       0|[{'id': 10749, 'n...|                NULL|15602|tt0113228|               en|    Grumpier Old Men|A family wedding ...|   11.7129|/6ksm1sjKMFLbO7UY...|[{'name': 'Warner...|[{'iso_3166_1': '...|          1995-12-22|                   0|               101.0|[{'iso_639_1': 'e...|Released|Still Yelling. St...|    Grumpier Old Men|   False|                 6.5|               92|\n",
            "|False|                 NULL|16000000|[{'id': 35, 'name...|                NULL|31357|tt0114885|               en|   Waiting to Exhale|\"Cheated on, mist...|    Bernie| Glo and Robin ta...| determined to fi...|            3.859495|/16XOMpEaLWkrcPqS...|[{'name': 'Twenti...|[{'iso_3166_1': '...|          1995-12-22|81452156|               127.0|[{'iso_639_1': 'e...|Released|Friends are the p...|Waiting to Exhale|\n",
            "|False| {'id': 96871, 'na...|       0|[{'id': 35, 'name...|                NULL|11862|tt0113041|               en|Father of the Bri...|Just when George ...|  8.387519|/e64sOI48hQXyru7n...|[{'name': 'Sandol...|[{'iso_3166_1': '...|          1995-02-10|            76578911|               106.0|[{'iso_639_1': 'e...|Released|Just When His Wor...|Father of the Bri...|   False|                 5.7|              173|\n",
            "+-----+---------------------+--------+--------------------+--------------------+-----+---------+-----------------+--------------------+--------------------+----------+--------------------+--------------------+--------------------+--------------------+--------------------+--------------------+--------------------+--------+--------------------+--------------------+--------+--------------------+-----------------+\n",
            "only showing top 5 rows\n",
            "\n",
            "root\n",
            " |-- adult: string (nullable = true)\n",
            " |-- belongs_to_collection: string (nullable = true)\n",
            " |-- budget: string (nullable = true)\n",
            " |-- genres: string (nullable = true)\n",
            " |-- homepage: string (nullable = true)\n",
            " |-- id: string (nullable = true)\n",
            " |-- imdb_id: string (nullable = true)\n",
            " |-- original_language: string (nullable = true)\n",
            " |-- original_title: string (nullable = true)\n",
            " |-- overview: string (nullable = true)\n",
            " |-- popularity: string (nullable = true)\n",
            " |-- poster_path: string (nullable = true)\n",
            " |-- production_companies: string (nullable = true)\n",
            " |-- production_countries: string (nullable = true)\n",
            " |-- release_date: string (nullable = true)\n",
            " |-- revenue: string (nullable = true)\n",
            " |-- runtime: string (nullable = true)\n",
            " |-- spoken_languages: string (nullable = true)\n",
            " |-- status: string (nullable = true)\n",
            " |-- tagline: string (nullable = true)\n",
            " |-- title: string (nullable = true)\n",
            " |-- video: string (nullable = true)\n",
            " |-- vote_average: string (nullable = true)\n",
            " |-- vote_count: string (nullable = true)\n",
            "\n"
          ]
        }
      ]
    },
    {
      "cell_type": "code",
      "source": [
        "df.columns\n"
      ],
      "metadata": {
        "colab": {
          "base_uri": "https://localhost:8080/"
        },
        "id": "Jcnd6nZEGCsy",
        "outputId": "47aa3190-d95b-414f-de28-4f28d7f9d93c"
      },
      "execution_count": null,
      "outputs": [
        {
          "output_type": "execute_result",
          "data": {
            "text/plain": [
              "['adult',\n",
              " 'belongs_to_collection',\n",
              " 'budget',\n",
              " 'genres',\n",
              " 'homepage',\n",
              " 'id',\n",
              " 'imdb_id',\n",
              " 'original_language',\n",
              " 'original_title',\n",
              " 'overview',\n",
              " 'popularity',\n",
              " 'poster_path',\n",
              " 'production_companies',\n",
              " 'production_countries',\n",
              " 'release_date',\n",
              " 'revenue',\n",
              " 'runtime',\n",
              " 'spoken_languages',\n",
              " 'status',\n",
              " 'tagline',\n",
              " 'title',\n",
              " 'video',\n",
              " 'vote_average',\n",
              " 'vote_count']"
            ]
          },
          "metadata": {},
          "execution_count": 6
        }
      ]
    },
    {
      "cell_type": "markdown",
      "source": [
        "Preprocessing"
      ],
      "metadata": {
        "id": "yzkMDn8Gy9-Z"
      }
    },
    {
      "cell_type": "code",
      "source": [
        "# Étape 3 : Convertir les colonnes numériques en DoubleType\n",
        "from pyspark.sql.types import DoubleType\n",
        "\n",
        "colonnes_a_converter = [\"budget\", \"popularity\", \"revenue\", \"runtime\", \"vote_average\", \"vote_count\"]\n",
        "for colonne in colonnes_a_converter:\n",
        "    if colonne in df.columns:\n",
        "        df = df.withColumn(colonne, df[colonne].cast(DoubleType()))\n",
        "\n"
      ],
      "metadata": {
        "id": "0P7HHh4f7eVl"
      },
      "execution_count": null,
      "outputs": []
    },
    {
      "cell_type": "markdown",
      "source": [
        "Label :Adult\n",
        "contenu adapté ou non pour un public général"
      ],
      "metadata": {
        "id": "0UlxstC87Kte"
      }
    },
    {
      "cell_type": "code",
      "source": [
        "# Étape 4 : Créer une colonne binaire pour le label\n",
        "from pyspark.sql.functions import when\n",
        "df = df.withColumn(\"label\", when(df[\"adult\"] == \"True\", 1).otherwise(0))"
      ],
      "metadata": {
        "id": "1aQ8MD8QUSjw"
      },
      "execution_count": null,
      "outputs": []
    },
    {
      "cell_type": "markdown",
      "source": [
        "Indexer et Encoder les colonnes catégorielles\n",
        "\n",
        "\n",
        "Assemblage des caractéristiques :regroupe toutes les colonnes numériques utilisées comme caractéristiques\n",
        "Configurer le classifieur:  Un DecisionTreeClassifier est configuré, prenant \"label\" comme colonne cible et \"features\" comme vecteur de caractéristiques. Ce modèle d’arbre de décision va tenter de prédire la variable cible en fonction des caractéristiques fournies.\n",
        "Créer un Pipeline:Le Pipeline est construit pour automatiser l’ensemble des étapes de traitement des données et d’entraînement du modèle."
      ],
      "metadata": {
        "id": "Col-Kiifwx7c"
      }
    },
    {
      "cell_type": "code",
      "source": [
        "from pyspark.sql.types import DoubleType\n",
        "from pyspark.ml.feature import StringIndexer, OneHotEncoder, VectorAssembler\n",
        "from pyspark.ml.classification import DecisionTreeClassifier\n",
        "from pyspark.ml import Pipeline\n",
        "from pyspark.ml.evaluation import MulticlassClassificationEvaluator\n",
        "# Étape 5 : Indexer et encoder les colonnes catégorielles avec gestion des valeurs inconnues\n",
        "string_cols = [\"genres\", \"original_language\"]\n",
        "indexers = [StringIndexer(inputCol=col, outputCol=col + \"_index\", handleInvalid=\"skip\") for col in string_cols]\n",
        "encoders = [OneHotEncoder(inputCol=indexer.getOutputCol(), outputCol=indexer.getOutputCol() + \"_encoded\") for indexer in indexers]\n",
        "\n",
        "# Étape 6 : Assembler les caractéristiques\n",
        "feature_columns = [\"budget\", \"popularity\", \"revenue\", \"runtime\", \"vote_average\", \"vote_count\"] + \\\n",
        "                  [encoder.getOutputCol() for encoder in encoders]\n",
        "\n",
        "assembler = VectorAssembler(inputCols=feature_columns, outputCol=\"features\", handleInvalid=\"skip\")\n",
        "\n",
        "# Étape 7 : Configurer le classifieur\n",
        "dt = DecisionTreeClassifier(labelCol=\"label\", featuresCol=\"features\")\n",
        "\n",
        "# Étape 8 : Créer un Pipeline\n",
        "pipeline = Pipeline(stages=indexers + encoders + [assembler, dt])\n",
        "\n",
        "# Étape 9 : Diviser les données en ensembles d'entraînement et de test\n",
        "train_df, test_df = df.randomSplit([0.8, 0.2], seed=1234)"
      ],
      "metadata": {
        "id": "H6mrkC7EIdj5"
      },
      "execution_count": null,
      "outputs": []
    },
    {
      "cell_type": "markdown",
      "source": [
        "StringIndexer et OneHotEncoder : utilisées pour transformer des colonnes catégorielles (comme \"genres\" et \"original_language\") en une représentation numérique, ce qui est nécessaire pour l'entraînement du modèle.\n",
        "VectorAssembler : combine les colonnes de caractéristiques en une seule colonne vectorielle, indispensable pour que les modèles Spark traitent correctement les données.\n",
        "DecisionTreeClassifier : le modèle de classification utilisé pour prédire la cible, qui est également fourni par PySpark."
      ],
      "metadata": {
        "id": "9s1Mas9GyDPJ"
      }
    },
    {
      "cell_type": "code",
      "source": [
        "# Vérifier les colonnes du DataFrame d'entraînement\n",
        "train_df.printSchema()"
      ],
      "metadata": {
        "colab": {
          "base_uri": "https://localhost:8080/"
        },
        "id": "9Os4aRNc7p_P",
        "outputId": "4f2bc95d-9281-49d0-cd1e-6f11336bc245"
      },
      "execution_count": null,
      "outputs": [
        {
          "output_type": "stream",
          "name": "stdout",
          "text": [
            "root\n",
            " |-- adult: string (nullable = true)\n",
            " |-- belongs_to_collection: string (nullable = true)\n",
            " |-- budget: double (nullable = true)\n",
            " |-- genres: string (nullable = true)\n",
            " |-- homepage: string (nullable = true)\n",
            " |-- id: string (nullable = true)\n",
            " |-- imdb_id: string (nullable = true)\n",
            " |-- original_language: string (nullable = true)\n",
            " |-- original_title: string (nullable = true)\n",
            " |-- overview: string (nullable = true)\n",
            " |-- popularity: double (nullable = true)\n",
            " |-- poster_path: string (nullable = true)\n",
            " |-- production_companies: string (nullable = true)\n",
            " |-- production_countries: string (nullable = true)\n",
            " |-- release_date: string (nullable = true)\n",
            " |-- revenue: double (nullable = true)\n",
            " |-- runtime: double (nullable = true)\n",
            " |-- spoken_languages: string (nullable = true)\n",
            " |-- status: string (nullable = true)\n",
            " |-- tagline: string (nullable = true)\n",
            " |-- title: string (nullable = true)\n",
            " |-- video: string (nullable = true)\n",
            " |-- vote_average: double (nullable = true)\n",
            " |-- vote_count: double (nullable = true)\n",
            " |-- label: integer (nullable = false)\n",
            "\n"
          ]
        }
      ]
    },
    {
      "cell_type": "markdown",
      "source": [
        "Entraînement du modèle"
      ],
      "metadata": {
        "id": "bO621mhCzCty"
      }
    },
    {
      "cell_type": "code",
      "source": [
        "# Étape 10 : Entraîner le modèle\n",
        "model = pipeline.fit(train_df)"
      ],
      "metadata": {
        "id": "W7BVrTn17qyC"
      },
      "execution_count": null,
      "outputs": []
    },
    {
      "cell_type": "markdown",
      "source": [
        "Prédiction et Evaluation"
      ],
      "metadata": {
        "id": "SjSUqwh05GWQ"
      }
    },
    {
      "cell_type": "code",
      "source": [
        "# Effectuer des prédictions sur l'ensemble de test\n",
        "predictions = model.transform(test_df)\n",
        "\n",
        "# Évaluer les performances du modèle\n",
        "evaluator = MulticlassClassificationEvaluator(labelCol=\"label\", predictionCol=\"prediction\", metricName=\"accuracy\")\n",
        "accuracy = evaluator.evaluate(predictions)\n",
        "\n",
        "# Afficher l'accuracy du modèle\n",
        "print(f\"L'accuracy du modèle est de : {accuracy:.2f}\")\n",
        "\n",
        "# Arrêter la session Spark\n",
        "spark.stop()"
      ],
      "metadata": {
        "id": "FwMOejUc7wXd",
        "colab": {
          "base_uri": "https://localhost:8080/"
        },
        "outputId": "4a90fb09-9b31-4d6b-942e-eb35322ac08a"
      },
      "execution_count": null,
      "outputs": [
        {
          "output_type": "stream",
          "name": "stdout",
          "text": [
            "L'accuracy du modèle est de : 1.00\n"
          ]
        }
      ]
    },
    {
      "cell_type": "code",
      "source": [
        "# Évaluer les performances du modèle avec F1 Score\n",
        "evaluator_f1 = MulticlassClassificationEvaluator(labelCol=\"label\", predictionCol=\"prediction\", metricName=\"f1\")\n",
        "f1_score = evaluator_f1.evaluate(predictions)\n",
        "print(f\"Le F1 Score du modèle est de : {f1_score:.2f}\")\n"
      ],
      "metadata": {
        "id": "POaYzEaVukZb",
        "outputId": "8b58b387-b573-4417-b57b-1f7a119bb590",
        "colab": {
          "base_uri": "https://localhost:8080/",
          "height": 200
        }
      },
      "execution_count": null,
      "outputs": [
        {
          "output_type": "error",
          "ename": "NameError",
          "evalue": "name 'MulticlassClassificationEvaluator' is not defined",
          "traceback": [
            "\u001b[0;31m---------------------------------------------------------------------------\u001b[0m",
            "\u001b[0;31mNameError\u001b[0m                                 Traceback (most recent call last)",
            "\u001b[0;32m<ipython-input-1-d15e087ef7d1>\u001b[0m in \u001b[0;36m<cell line: 2>\u001b[0;34m()\u001b[0m\n\u001b[1;32m      1\u001b[0m \u001b[0;31m# Évaluer les performances du modèle avec F1 Score\u001b[0m\u001b[0;34m\u001b[0m\u001b[0;34m\u001b[0m\u001b[0m\n\u001b[0;32m----> 2\u001b[0;31m \u001b[0mevaluator_f1\u001b[0m \u001b[0;34m=\u001b[0m \u001b[0mMulticlassClassificationEvaluator\u001b[0m\u001b[0;34m(\u001b[0m\u001b[0mlabelCol\u001b[0m\u001b[0;34m=\u001b[0m\u001b[0;34m\"label\"\u001b[0m\u001b[0;34m,\u001b[0m \u001b[0mpredictionCol\u001b[0m\u001b[0;34m=\u001b[0m\u001b[0;34m\"prediction\"\u001b[0m\u001b[0;34m,\u001b[0m \u001b[0mmetricName\u001b[0m\u001b[0;34m=\u001b[0m\u001b[0;34m\"f1\"\u001b[0m\u001b[0;34m)\u001b[0m\u001b[0;34m\u001b[0m\u001b[0;34m\u001b[0m\u001b[0m\n\u001b[0m\u001b[1;32m      3\u001b[0m \u001b[0mf1_score\u001b[0m \u001b[0;34m=\u001b[0m \u001b[0mevaluator_f1\u001b[0m\u001b[0;34m.\u001b[0m\u001b[0mevaluate\u001b[0m\u001b[0;34m(\u001b[0m\u001b[0mpredictions\u001b[0m\u001b[0;34m)\u001b[0m\u001b[0;34m\u001b[0m\u001b[0;34m\u001b[0m\u001b[0m\n\u001b[1;32m      4\u001b[0m \u001b[0mprint\u001b[0m\u001b[0;34m(\u001b[0m\u001b[0;34mf\"Le F1 Score du modèle est de : {f1_score:.2f}\"\u001b[0m\u001b[0;34m)\u001b[0m\u001b[0;34m\u001b[0m\u001b[0;34m\u001b[0m\u001b[0m\n",
            "\u001b[0;31mNameError\u001b[0m: name 'MulticlassClassificationEvaluator' is not defined"
          ]
        }
      ]
    }
  ]
}